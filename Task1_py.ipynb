{
  "nbformat": 4,
  "nbformat_minor": 0,
  "metadata": {
    "colab": {
      "provenance": [],
      "authorship_tag": "ABX9TyOBpZgr6BPJLhbZiKWhyErq",
      "include_colab_link": true
    },
    "kernelspec": {
      "name": "python3",
      "display_name": "Python 3"
    },
    "language_info": {
      "name": "python"
    }
  },
  "cells": [
    {
      "cell_type": "markdown",
      "metadata": {
        "id": "view-in-github",
        "colab_type": "text"
      },
      "source": [
        "<a href=\"https://colab.research.google.com/github/Sajid7326/CodeAlpha_Internship/blob/main/Task1_py.ipynb\" target=\"_parent\"><img src=\"https://colab.research.google.com/assets/colab-badge.svg\" alt=\"Open In Colab\"/></a>"
      ]
    },
    {
      "cell_type": "code",
      "execution_count": null,
      "metadata": {
        "colab": {
          "base_uri": "https://localhost:8080/"
        },
        "id": "JNfi7OzFTExD",
        "outputId": "efdf92da-cdbf-4d6c-a135-851ceee436a1"
      },
      "outputs": [
        {
          "output_type": "stream",
          "name": "stdout",
          "text": [
            "🎮 Welcome to Hangman!\n",
            "Guess the word: _ _ _ _ _ _ _\n",
            "Enter a letter: cat\n",
            "⚠️ Please enter a single alphabetic character.\n",
            "Enter a letter: S\n",
            "❌ Wrong guess!\n",
            "\n",
            "Word: _ _ _ _ _ _ _\n",
            "Remaining attempts: 5\n",
            "Enter a letter: A\n",
            "✅ Good guess!\n",
            "\n",
            "Word: _ a _ _ _ a _\n",
            "Remaining attempts: 5\n",
            "Enter a letter: B\n",
            "❌ Wrong guess!\n",
            "\n",
            "Word: _ a _ _ _ a _\n",
            "Remaining attempts: 4\n"
          ]
        }
      ],
      "source": [
        "import random\n",
        "\n",
        "# List of words to choose from\n",
        "word_list = ['python', 'developer', 'hangman', 'challenge', 'internship']\n",
        "chosen_word = random.choice(word_list)\n",
        "\n",
        "# Game setup\n",
        "word_display = ['_'] * len(chosen_word)\n",
        "guessed_letters = []\n",
        "max_attempts = 6\n",
        "attempts = 0\n",
        "\n",
        "print(\"🎮 Welcome to Hangman!\")\n",
        "print(\"Guess the word: \" + ' '.join(word_display))\n",
        "\n",
        "# Game loop\n",
        "while attempts < max_attempts and '_' in word_display:\n",
        "    guess = input(\"Enter a letter: \").lower()\n",
        "\n",
        "    if not guess.isalpha() or len(guess) != 1:\n",
        "        print(\"⚠️ Please enter a single alphabetic character.\")\n",
        "        continue\n",
        "\n",
        "    if guess in guessed_letters:\n",
        "        print(\"❗ You already guessed that letter.\")\n",
        "        continue\n",
        "\n",
        "    guessed_letters.append(guess)\n",
        "\n",
        "    if guess in chosen_word:\n",
        "        print(\"✅ Good guess!\")\n",
        "        for i, letter in enumerate(chosen_word):\n",
        "            if letter == guess:\n",
        "                word_display[i] = guess\n",
        "    else:\n",
        "        print(\"❌ Wrong guess!\")\n",
        "        attempts += 1\n",
        "\n",
        "    print(\"\\nWord: \" + ' '.join(word_display))\n",
        "    print(f\"Remaining attempts: {max_attempts - attempts}\")\n",
        "\n",
        "# Game result\n",
        "if '_' not in word_display:\n",
        "    print(\"🎉 Congratulations! You guessed the word:\", chosen_word)\n",
        "else:\n",
        "    print(\"😞 Game over! The word was:\", chosen_word)\n"
      ]
    }
  ]
}