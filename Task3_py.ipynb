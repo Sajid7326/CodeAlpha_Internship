{
  "nbformat": 4,
  "nbformat_minor": 0,
  "metadata": {
    "colab": {
      "provenance": [],
      "authorship_tag": "ABX9TyP4v5KB45w+Pt2RcrUxgKVG",
      "include_colab_link": true
    },
    "kernelspec": {
      "name": "python3",
      "display_name": "Python 3"
    },
    "language_info": {
      "name": "python"
    }
  },
  "cells": [
    {
      "cell_type": "markdown",
      "metadata": {
        "id": "view-in-github",
        "colab_type": "text"
      },
      "source": [
        "<a href=\"https://colab.research.google.com/github/Sajid7326/CodeAlpha_Internship/blob/main/Task3_py.ipynb\" target=\"_parent\"><img src=\"https://colab.research.google.com/assets/colab-badge.svg\" alt=\"Open In Colab\"/></a>"
      ]
    },
    {
      "cell_type": "code",
      "execution_count": null,
      "metadata": {
        "colab": {
          "base_uri": "https://localhost:8080/"
        },
        "id": "_6TQVdsgW-SQ",
        "outputId": "4a34f4fa-6255-461f-8aa1-27bc36e09c1c"
      },
      "outputs": [
        {
          "output_type": "stream",
          "name": "stdout",
          "text": [
            "🤖 Hi! I'm your chatbot. Type 'bye' to exit.\n"
          ]
        }
      ],
      "source": [
        "import nltk\n",
        "from nltk.chat.util import Chat, reflections\n",
        "\n",
        "# Optional: Download required NLTK data (only run once)\n",
        "# nltk.download('punkt')\n",
        "\n",
        "# Define pairs of inputs and responses\n",
        "pairs = [\n",
        "    [\n",
        "        r\"hi|hello|hey\",\n",
        "        [\"Hello!\", \"Hey there!\", \"Hi! How can I help you today?\"]\n",
        "    ],\n",
        "    [\n",
        "        r\"how are you ?\",\n",
        "        [\"I'm doing great, thank you! How about you?\", \"All good here!\"]\n",
        "    ],\n",
        "    [\n",
        "        r\"what is your name ?\",\n",
        "        [\"I'm a simple NLP chatbot created by Sajid.\"]\n",
        "    ],\n",
        "    [\n",
        "        r\"who created you ?\",\n",
        "        [\"I was created by Sajid during his internship at CodeAlpha! 😎\"]\n",
        "    ],\n",
        "    [\n",
        "        r\"(.*) your name ?\",\n",
        "        [\"I go by the name ChatBot 🤖.\"]\n",
        "    ],\n",
        "    [\n",
        "        r\"what can you do ?\",\n",
        "        [\"I can chat with you about simple things. Ask me anything!\"]\n",
        "    ],\n",
        "    [\n",
        "        r\"bye|exit|quit\",\n",
        "        [\"Goodbye! Have a great day!\", \"See you later! 👋\"]\n",
        "    ],\n",
        "    [\n",
        "        r\"(.*)\",\n",
        "        [\"Sorry, I didn’t get that. Can you rephrase?\", \"Hmm, interesting. Tell me more!\"]\n",
        "    ]\n",
        "]\n",
        "\n",
        "# Create chatbot with reflections\n",
        "chatbot = Chat(pairs, reflections)\n",
        "\n",
        "# Start chatting\n",
        "print(\"🤖 Hi! I'm your chatbot. Type 'bye' to exit.\")\n",
        "chatbot.converse()\n"
      ]
    }
  ]
}